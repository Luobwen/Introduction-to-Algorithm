{
 "cells": [
  {
   "cell_type": "code",
   "execution_count": 20,
   "metadata": {
    "collapsed": true
   },
   "outputs": [],
   "source": [
    "def selection_sort(unsorted_list):\n",
    "    list_length = len(unsorted_list)   #获得列表长度\n",
    "    for i in range(list_length - 1):   #遍历列表i-(len-1)，因为遍历到(len-1)时，最后一个值已经排好序了\n",
    "        minimun_number = unsorted_list[i]  #将列表第i个值暂定为最小值\n",
    "        j = i + 1  #从第i个值后面开始寻找比i值小的最小值\n",
    "        sign = 0  #创建一个标志值，\n",
    "        while j < list_length:\n",
    "            if unsorted_list[j] < minimun_number:   #判断有无小于i值得最小值\n",
    "                minimun_number = unsorted_list[j]\n",
    "                sign = j\n",
    "            j += 1\n",
    "        if sign != 0: #当标志值不等于1说明有最小值存在，则互换。如果标志值等于1，则说明没有最小值，不互换。\n",
    "            unsorted_list[sign] = unsorted_list[i]\n",
    "            unsorted_list[i] = minimun_number\n",
    "    \n",
    "    return unsorted_list"
   ]
  },
  {
   "cell_type": "code",
   "execution_count": 21,
   "metadata": {
    "collapsed": true
   },
   "outputs": [],
   "source": [
    "A = [5, 2, 4, 6, 1, 3]"
   ]
  },
  {
   "cell_type": "code",
   "execution_count": 22,
   "metadata": {
    "collapsed": true
   },
   "outputs": [],
   "source": [
    "sorted_A = selection_sort(A)"
   ]
  },
  {
   "cell_type": "code",
   "execution_count": 23,
   "metadata": {},
   "outputs": [
    {
     "data": {
      "text/plain": [
       "[1, 2, 3, 4, 5, 6]"
      ]
     },
     "execution_count": 23,
     "metadata": {},
     "output_type": "execute_result"
    }
   ],
   "source": [
    "sorted_A"
   ]
  },
  {
   "cell_type": "code",
   "execution_count": null,
   "metadata": {
    "collapsed": true
   },
   "outputs": [],
   "source": []
  }
 ],
 "metadata": {
  "kernelspec": {
   "display_name": "Python 3",
   "language": "python",
   "name": "python3"
  },
  "language_info": {
   "codemirror_mode": {
    "name": "ipython",
    "version": 3
   },
   "file_extension": ".py",
   "mimetype": "text/x-python",
   "name": "python",
   "nbconvert_exporter": "python",
   "pygments_lexer": "ipython3",
   "version": "3.6.3"
  }
 },
 "nbformat": 4,
 "nbformat_minor": 2
}
