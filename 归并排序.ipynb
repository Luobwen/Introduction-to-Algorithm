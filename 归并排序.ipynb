{
 "cells": [
  {
   "cell_type": "code",
   "execution_count": 68,
   "metadata": {
    "collapsed": true
   },
   "outputs": [],
   "source": [
    "A = [5, 8, 56, 12, 63, 78, 94, 103, 14]"
   ]
  },
  {
   "cell_type": "code",
   "execution_count": 64,
   "metadata": {},
   "outputs": [],
   "source": [
    "def merge(left_list, right_list): #定义合并函数。A是一个数组，其中p,q,r是数组下标，满足p<=q<r\n",
    "    length_L = len(left_list)\n",
    "    length_R = len(right_list)\n",
    "    n = length_L + length_R\n",
    "    L = []\n",
    "    R = []\n",
    "    sorted_list = [1] * n\n",
    "    for i in range(length_L):\n",
    "        L.append(left_list[i])\n",
    "    for j in range(length_R):\n",
    "        R.append(right_list[j])\n",
    "    infinite = 999999999999\n",
    "    L.append(infinite)\n",
    "    R.append(infinite)\n",
    "    i = 0\n",
    "    j = 0\n",
    "    for k in range(n):  #注意，不熟悉\n",
    "        if L[i] <= R[j]:\n",
    "            sorted_list[k] = L[i]\n",
    "            i += 1\n",
    "        else:\n",
    "            sorted_list[k] = R[j]\n",
    "            j += 1\n",
    "    return sorted_list"
   ]
  },
  {
   "cell_type": "code",
   "execution_count": 65,
   "metadata": {},
   "outputs": [
    {
     "data": {
      "text/plain": [
       "[5, 8, 56, 12, 63, 78, 94, 103, 14]"
      ]
     },
     "execution_count": 65,
     "metadata": {},
     "output_type": "execute_result"
    }
   ],
   "source": [
    "left_list = [5, 8, 56, 12, 63]\n",
    "right_list = [78, 94, 103, 14]\n",
    "merge(left_list, right_list)"
   ]
  },
  {
   "cell_type": "code",
   "execution_count": 69,
   "metadata": {
    "collapsed": true
   },
   "outputs": [],
   "source": [
    "import math\n",
    "def merge_sort(A):  #定义归并排序的递归函数\n",
    "    n = len(A)\n",
    "    if n <= 1:  #定义递归终止条件\n",
    "        return A\n",
    "    else:\n",
    "        q = math.ceil( n / 2 )\n",
    "        left_list = merge_sort(A[:q])\n",
    "        right_list = merge_sort(A[q:])\n",
    "        sorted_list = merge(left_list, right_list)\n",
    "        return sorted_list"
   ]
  },
  {
   "cell_type": "code",
   "execution_count": 71,
   "metadata": {},
   "outputs": [
    {
     "data": {
      "text/plain": [
       "[5, 8, 12, 14, 56, 63, 78, 94, 103]"
      ]
     },
     "execution_count": 71,
     "metadata": {},
     "output_type": "execute_result"
    }
   ],
   "source": [
    "merge_sort(A)"
   ]
  },
  {
   "cell_type": "code",
   "execution_count": null,
   "metadata": {
    "collapsed": true
   },
   "outputs": [],
   "source": []
  }
 ],
 "metadata": {
  "kernelspec": {
   "display_name": "Python 3",
   "language": "python",
   "name": "python3"
  },
  "language_info": {
   "codemirror_mode": {
    "name": "ipython",
    "version": 3
   },
   "file_extension": ".py",
   "mimetype": "text/x-python",
   "name": "python",
   "nbconvert_exporter": "python",
   "pygments_lexer": "ipython3",
   "version": "3.6.3"
  }
 },
 "nbformat": 4,
 "nbformat_minor": 2
}
